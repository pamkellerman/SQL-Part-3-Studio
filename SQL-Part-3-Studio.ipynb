{
    "metadata": {
        "kernelspec": {
            "name": "SQL",
            "display_name": "SQL",
            "language": "sql"
        },
        "language_info": {
            "name": "sql",
            "version": ""
        },
        "extensions": {
            "azuredatastudio": {
                "version": 1,
                "views": []
            }
        }
    },
    "nbformat_minor": 2,
    "nbformat": 4,
    "cells": [
        {
            "cell_type": "markdown",
            "source": [
                "# SQL Part 3 Studio\n",
                "\n",
                "### Let's practice your SQL quering skills!  For each question, work along in the notebook adding your query and answering the questions. \n",
                "\n",
                "### **DataSet**\n",
                "\n",
                "### <span style=\"font-size: 14px; font-family: -apple-system, BlinkMacSystemFont, sans-serif;\">We will be using the Goodbooks-10k dataset from the exercises in the prep work.&nbsp; Feel free reference your previous notebooks.</span>\n",
                "\n",
                "- The dataset can be found here: [goodbooks-10k](https://www.kaggle.com/zygmunt/goodbooks-10k)\n",
                "- You can access the **BooksDB** in the Launchcode server.\n",
                "\n",
                "### **Business Issue**\n",
                "\n",
                "You are an employee at a small independet bookstore and you have been tasked to increase sales.  You decide to use the BooksDB to find books and themes to highlight in fun promotions throughout each month / season.  We will be starting with March and then you will have a chance to explore another month of your choosing.  We want to come up with a list of events/ promotions to run each month.  If you are looking for ideas to include in your promotions:\n",
                "\n",
                "- [https://www.calendarr.com/united-states/calendar-2022/](https://www.calendarr.com/united-states/calendar-2022/)\n",
                "- [https://www.holidayinsights.com/moreholidays/](https://www.holidayinsights.com/moreholidays/)\n",
                "    - Click on a month and it will take you to a more detailed page"
            ],
            "metadata": {
                "azdata_cell_guid": "b9034d8a-b631-48bf-a895-1012a6ffa784"
            },
            "attachments": {}
        },
        {
            "cell_type": "markdown",
            "source": [
                "## Part 1:  March - Women's History Month, Dr Seuss Day(3/2), National Pie Day3/14, St Patrick's Day (3/17), Season - Spring"
            ],
            "metadata": {
                "azdata_cell_guid": "6e55eb1c-4a14-4076-90d2-95ed17a6309f"
            },
            "attachments": {}
        },
        {
            "cell_type": "markdown",
            "source": [
                "### **Event 1:** Women's History Month\n",
                "\n",
                "Goal: Highlight Popular Womans Authors based on ratings from the Good Reads DB.\n",
                "\n",
                "### **Write a query that returns tag\\_id, the number of times each tag\\_id is used and the tag\\_name.**  \n",
                "\n",
                "### Use the GROUP BY and HAVING clause to narrow your focus.\n",
                "\n",
                "Try multiple keywords, ie woman vs female (female ended up giving better results)"
            ],
            "metadata": {
                "azdata_cell_guid": "d220c097-e9cf-4edd-9abe-312d071217b7"
            },
            "attachments": {}
        },
        {
            "cell_type": "code",
            "source": [
                "USE BooksDB\r\n",
                "SELECT TOP 50 title, tag_id, count\r\n",
                "FROM dbo.books AS best_book_id\r\n",
                "INNER JOIN dbo.book_tags AS goodreads_book_id\r\n",
                "ON best_book_id = goodreads_book_id"
            ],
            "metadata": {
                "language": "sql",
                "azdata_cell_guid": "bc808a39-9697-4830-b7b2-afd8a749adde"
            },
            "outputs": [
                {
                    "output_type": "display_data",
                    "data": {
                        "text/html": "(50 rows affected)"
                    },
                    "metadata": {}
                },
                {
                    "output_type": "display_data",
                    "data": {
                        "text/html": "Total execution time: 00:00:01.801"
                    },
                    "metadata": {}
                },
                {
                    "output_type": "execute_result",
                    "metadata": {},
                    "execution_count": 5,
                    "data": {
                        "application/vnd.dataresource+json": {
                            "schema": {
                                "fields": [
                                    {
                                        "name": "title"
                                    },
                                    {
                                        "name": "tag_id"
                                    },
                                    {
                                        "name": "count"
                                    }
                                ]
                            },
                            "data": [
                                {
                                    "title": "The Hunger Games (The Hunger Games, #1)",
                                    "tag_id": "11557",
                                    "count": "50755"
                                },
                                {
                                    "title": "The Hunger Games (The Hunger Games, #1)",
                                    "tag_id": "8717",
                                    "count": "35418"
                                },
                                {
                                    "title": "The Hunger Games (The Hunger Games, #1)",
                                    "tag_id": "33114",
                                    "count": "25968"
                                },
                                {
                                    "title": "The Hunger Games (The Hunger Games, #1)",
                                    "tag_id": "11743",
                                    "count": "13819"
                                },
                                {
                                    "title": "The Hunger Games (The Hunger Games, #1)",
                                    "tag_id": "10064",
                                    "count": "12985"
                                },
                                {
                                    "title": "The Hunger Games (The Hunger Games, #1)",
                                    "tag_id": "30574",
                                    "count": "11314"
                                },
                                {
                                    "title": "The Hunger Games (The Hunger Games, #1)",
                                    "tag_id": "10059",
                                    "count": "11065"
                                },
                                {
                                    "title": "The Hunger Games (The Hunger Games, #1)",
                                    "tag_id": "11305",
                                    "count": "10836"
                                },
                                {
                                    "title": "The Hunger Games (The Hunger Games, #1)",
                                    "tag_id": "32989",
                                    "count": "10823"
                                },
                                {
                                    "title": "The Hunger Games (The Hunger Games, #1)",
                                    "tag_id": "26837",
                                    "count": "8772"
                                },
                                {
                                    "title": "The Hunger Games (The Hunger Games, #1)",
                                    "tag_id": "5207",
                                    "count": "7100"
                                },
                                {
                                    "title": "The Hunger Games (The Hunger Games, #1)",
                                    "tag_id": "26771",
                                    "count": "6211"
                                },
                                {
                                    "title": "The Hunger Games (The Hunger Games, #1)",
                                    "tag_id": "27199",
                                    "count": "5094"
                                },
                                {
                                    "title": "The Hunger Games (The Hunger Games, #1)",
                                    "tag_id": "22743",
                                    "count": "4904"
                                },
                                {
                                    "title": "The Hunger Games (The Hunger Games, #1)",
                                    "tag_id": "11590",
                                    "count": "4194"
                                },
                                {
                                    "title": "The Hunger Games (The Hunger Games, #1)",
                                    "tag_id": "26138",
                                    "count": "3341"
                                },
                                {
                                    "title": "The Hunger Games (The Hunger Games, #1)",
                                    "tag_id": "1691",
                                    "count": "3190"
                                },
                                {
                                    "title": "The Hunger Games (The Hunger Games, #1)",
                                    "tag_id": "15081",
                                    "count": "2899"
                                },
                                {
                                    "title": "The Hunger Games (The Hunger Games, #1)",
                                    "tag_id": "4949",
                                    "count": "2010"
                                },
                                {
                                    "title": "The Hunger Games (The Hunger Games, #1)",
                                    "tag_id": "17213",
                                    "count": "1985"
                                },
                                {
                                    "title": "The Hunger Games (The Hunger Games, #1)",
                                    "tag_id": "29452",
                                    "count": "1776"
                                },
                                {
                                    "title": "The Hunger Games (The Hunger Games, #1)",
                                    "tag_id": "25148",
                                    "count": "1478"
                                },
                                {
                                    "title": "The Hunger Games (The Hunger Games, #1)",
                                    "tag_id": "24051",
                                    "count": "1461"
                                },
                                {
                                    "title": "The Hunger Games (The Hunger Games, #1)",
                                    "tag_id": "20774",
                                    "count": "1441"
                                },
                                {
                                    "title": "The Hunger Games (The Hunger Games, #1)",
                                    "tag_id": "29858",
                                    "count": "1435"
                                },
                                {
                                    "title": "The Hunger Games (The Hunger Games, #1)",
                                    "tag_id": "11505",
                                    "count": "1392"
                                },
                                {
                                    "title": "The Hunger Games (The Hunger Games, #1)",
                                    "tag_id": "1540",
                                    "count": "1263"
                                },
                                {
                                    "title": "The Hunger Games (The Hunger Games, #1)",
                                    "tag_id": "29095",
                                    "count": "1206"
                                },
                                {
                                    "title": "The Hunger Games (The Hunger Games, #1)",
                                    "tag_id": "24960",
                                    "count": "1204"
                                },
                                {
                                    "title": "The Hunger Games (The Hunger Games, #1)",
                                    "tag_id": "2104",
                                    "count": "1154"
                                },
                                {
                                    "title": "The Hunger Games (The Hunger Games, #1)",
                                    "tag_id": "33012",
                                    "count": "1132"
                                },
                                {
                                    "title": "The Hunger Games (The Hunger Games, #1)",
                                    "tag_id": "29045",
                                    "count": "1120"
                                },
                                {
                                    "title": "The Hunger Games (The Hunger Games, #1)",
                                    "tag_id": "26785",
                                    "count": "1119"
                                },
                                {
                                    "title": "The Hunger Games (The Hunger Games, #1)",
                                    "tag_id": "5090",
                                    "count": "1108"
                                },
                                {
                                    "title": "The Hunger Games (The Hunger Games, #1)",
                                    "tag_id": "11497",
                                    "count": "1084"
                                },
                                {
                                    "title": "The Hunger Games (The Hunger Games, #1)",
                                    "tag_id": "26894",
                                    "count": "1030"
                                },
                                {
                                    "title": "The Hunger Games (The Hunger Games, #1)",
                                    "tag_id": "1128",
                                    "count": "1026"
                                },
                                {
                                    "title": "The Hunger Games (The Hunger Games, #1)",
                                    "tag_id": "15169",
                                    "count": "931"
                                },
                                {
                                    "title": "The Hunger Games (The Hunger Games, #1)",
                                    "tag_id": "25147",
                                    "count": "927"
                                },
                                {
                                    "title": "The Hunger Games (The Hunger Games, #1)",
                                    "tag_id": "22034",
                                    "count": "904"
                                },
                                {
                                    "title": "The Hunger Games (The Hunger Games, #1)",
                                    "tag_id": "10197",
                                    "count": "897"
                                },
                                {
                                    "title": "The Hunger Games (The Hunger Games, #1)",
                                    "tag_id": "3389",
                                    "count": "880"
                                },
                                {
                                    "title": "The Hunger Games (The Hunger Games, #1)",
                                    "tag_id": "33124",
                                    "count": "875"
                                },
                                {
                                    "title": "The Hunger Games (The Hunger Games, #1)",
                                    "tag_id": "30358",
                                    "count": "800"
                                },
                                {
                                    "title": "The Hunger Games (The Hunger Games, #1)",
                                    "tag_id": "20824",
                                    "count": "782"
                                },
                                {
                                    "title": "The Hunger Games (The Hunger Games, #1)",
                                    "tag_id": "3392",
                                    "count": "762"
                                },
                                {
                                    "title": "The Hunger Games (The Hunger Games, #1)",
                                    "tag_id": "24993",
                                    "count": "736"
                                },
                                {
                                    "title": "The Hunger Games (The Hunger Games, #1)",
                                    "tag_id": "12709",
                                    "count": "701"
                                },
                                {
                                    "title": "The Hunger Games (The Hunger Games, #1)",
                                    "tag_id": "10210",
                                    "count": "690"
                                },
                                {
                                    "title": "The Hunger Games (The Hunger Games, #1)",
                                    "tag_id": "9221",
                                    "count": "682"
                                }
                            ]
                        },
                        "text/html": [
                            "<table>",
                            "<tr><th>title</th><th>tag_id</th><th>count</th></tr>",
                            "<tr><td>The Hunger Games (The Hunger Games, #1)</td><td>11557</td><td>50755</td></tr>",
                            "<tr><td>The Hunger Games (The Hunger Games, #1)</td><td>8717</td><td>35418</td></tr>",
                            "<tr><td>The Hunger Games (The Hunger Games, #1)</td><td>33114</td><td>25968</td></tr>",
                            "<tr><td>The Hunger Games (The Hunger Games, #1)</td><td>11743</td><td>13819</td></tr>",
                            "<tr><td>The Hunger Games (The Hunger Games, #1)</td><td>10064</td><td>12985</td></tr>",
                            "<tr><td>The Hunger Games (The Hunger Games, #1)</td><td>30574</td><td>11314</td></tr>",
                            "<tr><td>The Hunger Games (The Hunger Games, #1)</td><td>10059</td><td>11065</td></tr>",
                            "<tr><td>The Hunger Games (The Hunger Games, #1)</td><td>11305</td><td>10836</td></tr>",
                            "<tr><td>The Hunger Games (The Hunger Games, #1)</td><td>32989</td><td>10823</td></tr>",
                            "<tr><td>The Hunger Games (The Hunger Games, #1)</td><td>26837</td><td>8772</td></tr>",
                            "<tr><td>The Hunger Games (The Hunger Games, #1)</td><td>5207</td><td>7100</td></tr>",
                            "<tr><td>The Hunger Games (The Hunger Games, #1)</td><td>26771</td><td>6211</td></tr>",
                            "<tr><td>The Hunger Games (The Hunger Games, #1)</td><td>27199</td><td>5094</td></tr>",
                            "<tr><td>The Hunger Games (The Hunger Games, #1)</td><td>22743</td><td>4904</td></tr>",
                            "<tr><td>The Hunger Games (The Hunger Games, #1)</td><td>11590</td><td>4194</td></tr>",
                            "<tr><td>The Hunger Games (The Hunger Games, #1)</td><td>26138</td><td>3341</td></tr>",
                            "<tr><td>The Hunger Games (The Hunger Games, #1)</td><td>1691</td><td>3190</td></tr>",
                            "<tr><td>The Hunger Games (The Hunger Games, #1)</td><td>15081</td><td>2899</td></tr>",
                            "<tr><td>The Hunger Games (The Hunger Games, #1)</td><td>4949</td><td>2010</td></tr>",
                            "<tr><td>The Hunger Games (The Hunger Games, #1)</td><td>17213</td><td>1985</td></tr>",
                            "<tr><td>The Hunger Games (The Hunger Games, #1)</td><td>29452</td><td>1776</td></tr>",
                            "<tr><td>The Hunger Games (The Hunger Games, #1)</td><td>25148</td><td>1478</td></tr>",
                            "<tr><td>The Hunger Games (The Hunger Games, #1)</td><td>24051</td><td>1461</td></tr>",
                            "<tr><td>The Hunger Games (The Hunger Games, #1)</td><td>20774</td><td>1441</td></tr>",
                            "<tr><td>The Hunger Games (The Hunger Games, #1)</td><td>29858</td><td>1435</td></tr>",
                            "<tr><td>The Hunger Games (The Hunger Games, #1)</td><td>11505</td><td>1392</td></tr>",
                            "<tr><td>The Hunger Games (The Hunger Games, #1)</td><td>1540</td><td>1263</td></tr>",
                            "<tr><td>The Hunger Games (The Hunger Games, #1)</td><td>29095</td><td>1206</td></tr>",
                            "<tr><td>The Hunger Games (The Hunger Games, #1)</td><td>24960</td><td>1204</td></tr>",
                            "<tr><td>The Hunger Games (The Hunger Games, #1)</td><td>2104</td><td>1154</td></tr>",
                            "<tr><td>The Hunger Games (The Hunger Games, #1)</td><td>33012</td><td>1132</td></tr>",
                            "<tr><td>The Hunger Games (The Hunger Games, #1)</td><td>29045</td><td>1120</td></tr>",
                            "<tr><td>The Hunger Games (The Hunger Games, #1)</td><td>26785</td><td>1119</td></tr>",
                            "<tr><td>The Hunger Games (The Hunger Games, #1)</td><td>5090</td><td>1108</td></tr>",
                            "<tr><td>The Hunger Games (The Hunger Games, #1)</td><td>11497</td><td>1084</td></tr>",
                            "<tr><td>The Hunger Games (The Hunger Games, #1)</td><td>26894</td><td>1030</td></tr>",
                            "<tr><td>The Hunger Games (The Hunger Games, #1)</td><td>1128</td><td>1026</td></tr>",
                            "<tr><td>The Hunger Games (The Hunger Games, #1)</td><td>15169</td><td>931</td></tr>",
                            "<tr><td>The Hunger Games (The Hunger Games, #1)</td><td>25147</td><td>927</td></tr>",
                            "<tr><td>The Hunger Games (The Hunger Games, #1)</td><td>22034</td><td>904</td></tr>",
                            "<tr><td>The Hunger Games (The Hunger Games, #1)</td><td>10197</td><td>897</td></tr>",
                            "<tr><td>The Hunger Games (The Hunger Games, #1)</td><td>3389</td><td>880</td></tr>",
                            "<tr><td>The Hunger Games (The Hunger Games, #1)</td><td>33124</td><td>875</td></tr>",
                            "<tr><td>The Hunger Games (The Hunger Games, #1)</td><td>30358</td><td>800</td></tr>",
                            "<tr><td>The Hunger Games (The Hunger Games, #1)</td><td>20824</td><td>782</td></tr>",
                            "<tr><td>The Hunger Games (The Hunger Games, #1)</td><td>3392</td><td>762</td></tr>",
                            "<tr><td>The Hunger Games (The Hunger Games, #1)</td><td>24993</td><td>736</td></tr>",
                            "<tr><td>The Hunger Games (The Hunger Games, #1)</td><td>12709</td><td>701</td></tr>",
                            "<tr><td>The Hunger Games (The Hunger Games, #1)</td><td>10210</td><td>690</td></tr>",
                            "<tr><td>The Hunger Games (The Hunger Games, #1)</td><td>9221</td><td>682</td></tr>",
                            "</table>"
                        ]
                    }
                }
            ],
            "execution_count": 5
        },
        {
            "cell_type": "code",
            "source": [
                "-- -- Solution\r\n",
                "-- USE BooksDB\r\n",
                "-- SELECT TOP 1 title, tag_id, count\r\n",
                "-- FROM dbo.books AS best_book_id\r\n",
                "-- INNER JOIN dbo.book_tags AS goodreads_book_id\r\n",
                "-- ON best_book_id = goodreads_book_id\r\n",
                "-- WHERE authors LIKE %female%\r\n",
                "-- ORDER BY count DESC"
            ],
            "metadata": {
                "azdata_cell_guid": "e31b9d26-0386-44c7-828e-85f4f06f3ee6",
                "language": "sql"
            },
            "outputs": [
                {
                    "output_type": "error",
                    "evalue": "Msg 102, Level 15, State 1, Line 7\r\nIncorrect syntax near 'female'.",
                    "ename": "",
                    "traceback": []
                },
                {
                    "output_type": "display_data",
                    "data": {
                        "text/html": "Total execution time: 00:00:00.039"
                    },
                    "metadata": {}
                }
            ],
            "execution_count": 3
        },
        {
            "cell_type": "markdown",
            "source": [
                "### **Which keyword(s) and tag(s) would you like to explore more?**\n",
                "\n",
                "Double click to edit."
            ],
            "metadata": {
                "azdata_cell_guid": "e9acd8b5-a62b-4ac0-bd07-19915b379ba6"
            },
            "attachments": {}
        },
        {
            "cell_type": "markdown",
            "source": [
                "### **Write a query to return authors, titles, ratings and** **selected tag(s)\\_id.**"
            ],
            "metadata": {
                "azdata_cell_guid": "59b84464-c0bc-4dac-9e02-0c803765b063"
            },
            "attachments": {}
        },
        {
            "cell_type": "code",
            "source": [
                "-- Solution"
            ],
            "metadata": {
                "azdata_cell_guid": "51ffeaaf-6dde-4906-95f3-eb8757babf27",
                "tags": [],
                "language": "sql"
            },
            "outputs": [],
            "execution_count": null
        },
        {
            "cell_type": "markdown",
            "source": [
                "### **Record your thoughts about why you wrote the query the way you did.**"
            ],
            "metadata": {
                "azdata_cell_guid": "1e19a72c-1bca-446b-a0c7-a8efbc35dcf1"
            },
            "attachments": {}
        },
        {
            "cell_type": "markdown",
            "source": [
                "# Part 2: Choose Another Month\n",
                "\n",
                "Choose another month and plan at least 2 events / promotions and answer the following questions.\n",
                "\n",
                "Which month did you choose?  \n",
                "\n",
                "What 2 events / promotions are you highlighting?\n",
                "\n",
                "> 1.\n",
                "\n",
                "> 2."
            ],
            "metadata": {
                "azdata_cell_guid": "3eaf376d-9de3-4553-a9d0-9caf74ee3d6a"
            },
            "attachments": {}
        },
        {
            "cell_type": "markdown",
            "source": [
                "# Part 3: Summarize your Work\n",
                "\n",
                "For each event write at least one query that joins any two tables in the BooksDB to support your choice and record you thoughts as to why you used the paticlular query. At least one of your queries needs to include a HAVING clause."
            ],
            "metadata": {
                "azdata_cell_guid": "1ba1363a-4f02-4962-a95a-93b80c5926b1"
            },
            "attachments": {}
        },
        {
            "cell_type": "code",
            "source": [
                "-- Event 1 Query"
            ],
            "metadata": {
                "azdata_cell_guid": "f50d32ce-4cb2-4af2-acb1-607777a76cf8",
                "language": "sql"
            },
            "outputs": [],
            "execution_count": null
        },
        {
            "cell_type": "code",
            "source": [
                ""
            ],
            "metadata": {
                "azdata_cell_guid": "5606f7f2-c46b-42d3-ac64-7ae21c3394f8",
                "language": "sql"
            },
            "outputs": [],
            "execution_count": null
        },
        {
            "cell_type": "markdown",
            "source": [
                "### **Summary of event 1:**\n",
                "\n",
                "Double Click to edit."
            ],
            "metadata": {
                "azdata_cell_guid": "3bc72d4c-077b-42d3-9528-9aff8e7b6cf3"
            },
            "attachments": {}
        },
        {
            "cell_type": "code",
            "source": [
                "-- Event 2 Query"
            ],
            "metadata": {
                "azdata_cell_guid": "dca0a98f-065f-4b0e-9d93-fcb01cad668c",
                "language": "sql"
            },
            "outputs": [],
            "execution_count": null
        },
        {
            "cell_type": "code",
            "source": [
                ""
            ],
            "metadata": {
                "azdata_cell_guid": "3aaae3a8-eff7-4b37-8970-2d913a67239b",
                "language": "sql"
            },
            "outputs": [],
            "execution_count": null
        },
        {
            "cell_type": "markdown",
            "source": [
                "### **Summary of event 2:**\n",
                "\n",
                "Double Click to edit."
            ],
            "metadata": {
                "azdata_cell_guid": "99d518dc-cd8b-42d6-9a9d-708771c9aa99"
            },
            "attachments": {}
        }
    ]
}